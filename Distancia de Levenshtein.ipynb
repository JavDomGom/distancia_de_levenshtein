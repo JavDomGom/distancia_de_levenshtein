{
 "cells": [
  {
   "cell_type": "markdown",
   "id": "85ceceaa",
   "metadata": {},
   "source": [
    "# Distancia de Levenshtein"
   ]
  },
  {
   "cell_type": "code",
   "execution_count": 1,
   "id": "50b20577",
   "metadata": {},
   "outputs": [],
   "source": [
    "#!pip install fuzzywuzzy\n",
    "from fuzzywuzzy import fuzz\n",
    "\n",
    "#!pip install jellyfish\n",
    "import jellyfish\n",
    "\n",
    "#!pip install distance\n",
    "import distance\n",
    "\n",
    "#!pip install python-Levenshtein\n",
    "import Levenshtein\n",
    "\n",
    "#!pip install textdistance\n",
    "import textdistance\n",
    "\n",
    "str1 = \"Bello\"\n",
    "str2 = \"Vello\""
   ]
  },
  {
   "cell_type": "markdown",
   "id": "0b90e6d3",
   "metadata": {},
   "source": [
    "### Benchmark con Jellyfish"
   ]
  },
  {
   "cell_type": "code",
   "execution_count": 2,
   "id": "20b4321f",
   "metadata": {},
   "outputs": [
    {
     "name": "stdout",
     "output_type": "stream",
     "text": [
      "313 ns ± 38.7 ns per loop (mean ± std. dev. of 10 runs, 5,000 loops each)\n"
     ]
    }
   ],
   "source": [
    "%%timeit -r 10 -n 5000\n",
    "\n",
    "jellyfish.levenshtein_distance(str1, str2)"
   ]
  },
  {
   "cell_type": "markdown",
   "id": "cca1ef14",
   "metadata": {},
   "source": [
    "### Benchmark con python-Levenshtein "
   ]
  },
  {
   "cell_type": "code",
   "execution_count": 3,
   "id": "c3a540b0",
   "metadata": {},
   "outputs": [
    {
     "name": "stdout",
     "output_type": "stream",
     "text": [
      "408 ns ± 32.6 ns per loop (mean ± std. dev. of 10 runs, 5,000 loops each)\n"
     ]
    }
   ],
   "source": [
    "%%timeit -r 10 -n 5000\n",
    "\n",
    "Levenshtein.distance(str1, str2)"
   ]
  },
  {
   "cell_type": "markdown",
   "id": "3290761f",
   "metadata": {},
   "source": [
    "### Benchmark con Fuzzywuzzy"
   ]
  },
  {
   "cell_type": "code",
   "execution_count": 4,
   "id": "504c6537",
   "metadata": {},
   "outputs": [
    {
     "name": "stdout",
     "output_type": "stream",
     "text": [
      "2.39 µs ± 568 ns per loop (mean ± std. dev. of 10 runs, 5,000 loops each)\n"
     ]
    }
   ],
   "source": [
    "%%timeit -r 10 -n 5000\n",
    "\n",
    "fuzz.ratio(str1, str2)"
   ]
  },
  {
   "cell_type": "markdown",
   "id": "ee6a5f39",
   "metadata": {},
   "source": [
    "### Benchmark con textdistance"
   ]
  },
  {
   "cell_type": "code",
   "execution_count": 5,
   "id": "796f5976",
   "metadata": {},
   "outputs": [
    {
     "name": "stdout",
     "output_type": "stream",
     "text": [
      "4.42 µs ± 223 ns per loop (mean ± std. dev. of 10 runs, 5,000 loops each)\n"
     ]
    }
   ],
   "source": [
    "%%timeit -r 10 -n 5000\n",
    "\n",
    "textdistance.levenshtein.normalized_similarity(str1, str2)"
   ]
  },
  {
   "cell_type": "markdown",
   "id": "75377f55",
   "metadata": {},
   "source": [
    "### Benchmark con Distance"
   ]
  },
  {
   "cell_type": "code",
   "execution_count": 6,
   "id": "c4acbca4",
   "metadata": {},
   "outputs": [
    {
     "name": "stdout",
     "output_type": "stream",
     "text": [
      "11.5 µs ± 696 ns per loop (mean ± std. dev. of 10 runs, 5,000 loops each)\n"
     ]
    }
   ],
   "source": [
    "%%timeit -r 10 -n 5000\n",
    "\n",
    "distance.levenshtein(str1, str2)"
   ]
  },
  {
   "cell_type": "markdown",
   "id": "d4f53725",
   "metadata": {},
   "source": [
    "### Benchmark con implementación propia nº1"
   ]
  },
  {
   "cell_type": "code",
   "execution_count": 7,
   "id": "89492d95",
   "metadata": {},
   "outputs": [],
   "source": [
    "def levenshtein_distance(str1, str2):\n",
    "    m = len(str1)\n",
    "    n = len(str2)\n",
    "\n",
    "    # Inicializar la matriz de distancia\n",
    "    d = [[0 for j in range(n+1)] for i in range(m+1)]\n",
    "\n",
    "    # Inicializar la primera fila y la primera columna\n",
    "    for i in range(m+1):\n",
    "        d[i][0] = i\n",
    "    for j in range(n+1):\n",
    "        d[0][j] = j\n",
    "\n",
    "    # Calcular la matriz de distancia\n",
    "    for j in range(1, n+1):\n",
    "        for i in range(1, m+1):\n",
    "            if str1[i-1] == str2[j-1]:\n",
    "                d[i][j] = d[i-1][j-1]\n",
    "            else:\n",
    "                d[i][j] = min(d[i-1][j], d[i][j-1], d[i-1][j-1]) + 1\n",
    "\n",
    "    # Devolver la distancia\n",
    "    return d[m][n]"
   ]
  },
  {
   "cell_type": "code",
   "execution_count": 8,
   "id": "081155cb",
   "metadata": {},
   "outputs": [
    {
     "name": "stdout",
     "output_type": "stream",
     "text": [
      "12.9 µs ± 760 ns per loop (mean ± std. dev. of 10 runs, 5,000 loops each)\n"
     ]
    }
   ],
   "source": [
    "%%timeit -r 10 -n 5000\n",
    "\n",
    "levenshtein_distance(str1, str2)"
   ]
  },
  {
   "cell_type": "markdown",
   "id": "ac86338b",
   "metadata": {},
   "source": [
    "### Benchmark con implementación propia nº2"
   ]
  },
  {
   "cell_type": "code",
   "execution_count": 9,
   "id": "cf1d4017",
   "metadata": {},
   "outputs": [],
   "source": [
    "def distance(str1, str2):\n",
    "    d=dict()\n",
    "    for i in range(len(str1)+1):\n",
    "        d[i]=dict()\n",
    "        d[i][0]=i\n",
    "    for i in range(len(str2)+1):\n",
    "        d[0][i] = i\n",
    "    for i in range(1, len(str1)+1):\n",
    "        for j in range(1, len(str2)+1):\n",
    "            d[i][j] = min(d[i][j-1]+1, d[i-1][j]+1, d[i-1][j-1]+(not str1[i-1] == str2[j-1]))\n",
    "    return d[len(str1)][len(str2)]"
   ]
  },
  {
   "cell_type": "code",
   "execution_count": 10,
   "id": "ecf2da31",
   "metadata": {},
   "outputs": [
    {
     "name": "stdout",
     "output_type": "stream",
     "text": [
      "14.3 µs ± 233 ns per loop (mean ± std. dev. of 10 runs, 5,000 loops each)\n"
     ]
    }
   ],
   "source": [
    "%%timeit -r 10 -n 5000\n",
    "\n",
    "distance(str1, str2)"
   ]
  }
 ],
 "metadata": {
  "kernelspec": {
   "display_name": "Python 3 (ipykernel)",
   "language": "python",
   "name": "python3"
  },
  "language_info": {
   "codemirror_mode": {
    "name": "ipython",
    "version": 3
   },
   "file_extension": ".py",
   "mimetype": "text/x-python",
   "name": "python",
   "nbconvert_exporter": "python",
   "pygments_lexer": "ipython3",
   "version": "3.9.12"
  }
 },
 "nbformat": 4,
 "nbformat_minor": 5
}
